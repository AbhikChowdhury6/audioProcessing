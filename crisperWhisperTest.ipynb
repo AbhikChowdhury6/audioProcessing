{
 "cells": [
  {
   "cell_type": "code",
   "execution_count": 1,
   "metadata": {},
   "outputs": [
    {
     "name": "stderr",
     "output_type": "stream",
     "text": [
      "/home/chowder/anaconda3/envs/depTest/lib/python3.10/site-packages/tqdm/auto.py:21: TqdmWarning: IProgress not found. Please update jupyter and ipywidgets. See https://ipywidgets.readthedocs.io/en/stable/user_install.html\n",
      "  from .autonotebook import tqdm as notebook_tqdm\n"
     ]
    }
   ],
   "source": [
    "import os\n",
    "import sys\n",
    "import torch\n",
    "\n",
    "from faster_whisper import WhisperModel\n",
    "from datasets import load_dataset\n",
    "faster_whisper_model = 'nyrahealth/faster_CrisperWhisper'\n",
    "\n",
    "os.environ[\"LD_LIBRARY_PATH\"] = \":/home/chowder/anaconda3/envs/depTest/lib/python3.10/site-packages/nvidia/cublas/lib:/home/chowder/anaconda3/envs/depTest/lib/python3.10/site-packages/nvidia/cudnn/lib\"\n",
    "\n",
    "# Initialize the Whisper model\n",
    "\n",
    "device = \"cuda\" if torch.cuda.is_available() else \"cpu\"\n",
    "torch_dtype = \"float16\" if torch.cuda.is_available() else \"float32\"\n",
    "model = WhisperModel(faster_whisper_model, device=device, compute_type=\"float32\")\n",
    "dataset = load_dataset(\"distil-whisper/librispeech_long\", \"clean\", split=\"validation\")\n"
   ]
  },
  {
   "cell_type": "code",
   "execution_count": 2,
   "metadata": {},
   "outputs": [
    {
     "name": "stdout",
     "output_type": "stream",
     "text": [
      "Dataset({\n",
      "    features: ['audio'],\n",
      "    num_rows: 1\n",
      "})\n",
      "[{'path': '0d38672e0bbdbdc460af55b8bb84a15b2730db2819f2af64f9c777d4d586f2de', 'array': array([0.00238037, 0.0020752 , 0.00198364, ..., 0.00024414, 0.00048828,\n",
      "       0.0005188 ]), 'sampling_rate': 16000}]\n",
      "{'audio': {'path': '0d38672e0bbdbdc460af55b8bb84a15b2730db2819f2af64f9c777d4d586f2de', 'array': array([0.00238037, 0.0020752 , 0.00198364, ..., 0.00024414, 0.00048828,\n",
      "       0.0005188 ]), 'sampling_rate': 16000}}\n",
      "{'path': '0d38672e0bbdbdc460af55b8bb84a15b2730db2819f2af64f9c777d4d586f2de', 'array': array([0.00238037, 0.0020752 , 0.00198364, ..., 0.00024414, 0.00048828,\n",
      "       0.0005188 ]), 'sampling_rate': 16000}\n",
      "[0.00238037 0.0020752  0.00198364 ... 0.00024414 0.00048828 0.0005188 ]\n",
      "999280\n"
     ]
    }
   ],
   "source": [
    "print(dataset)\n",
    "print(dataset['audio'])\n",
    "print(dataset[0])\n",
    "print(dataset[0][\"audio\"])\n",
    "print(dataset[0][\"audio\"]['array'])\n",
    "print(len(dataset[0][\"audio\"]['array']))"
   ]
  },
  {
   "cell_type": "code",
   "execution_count": 7,
   "metadata": {},
   "outputs": [
    {
     "name": "stdout",
     "output_type": "stream",
     "text": [
      "dict_keys(['path', 'array', 'sampling_rate'])\n"
     ]
    }
   ],
   "source": [
    "print(dataset[0][\"audio\"].keys())\n"
   ]
  },
  {
   "cell_type": "code",
   "execution_count": 3,
   "metadata": {},
   "outputs": [
    {
     "ename": "",
     "evalue": "",
     "output_type": "error",
     "traceback": [
      "\u001b[1;31mThe Kernel crashed while executing code in the current cell or a previous cell. \n",
      "\u001b[1;31mPlease review the code in the cell(s) to identify a possible cause of the failure. \n",
      "\u001b[1;31mClick <a href='https://aka.ms/vscodeJupyterKernelCrash'>here</a> for more info. \n",
      "\u001b[1;31mView Jupyter <a href='command:jupyter.viewOutput'>log</a> for further details."
     ]
    }
   ],
   "source": [
    "\n",
    "sample = dataset[0][\"audio\"]\n",
    "\n",
    "segments, info = model.transcribe(sample['array'], beam_size=1, language='en', word_timestamps = True, without_timestamps= True)\n",
    "\n",
    "for segment in segments:\n",
    "    print(segment)"
   ]
  },
  {
   "cell_type": "code",
   "execution_count": 8,
   "metadata": {},
   "outputs": [
    {
     "name": "stdout",
     "output_type": "stream",
     "text": [
      "22050\n",
      "[1.4260255e-05 3.8150160e-05 2.4139747e-05 ... 1.2691758e-02 9.0316385e-03\n",
      " 4.2335619e-03]\n"
     ]
    }
   ],
   "source": [
    "import librosa\n",
    "\n",
    "# Load the audio file\n",
    "audio_file = \"test10.mp3\"\n",
    "y, sr = librosa.load(audio_file)\n",
    "\n",
    "# y is now a numpy array containing the audio data as floats\n",
    "print(sr)\n",
    "print(y)"
   ]
  },
  {
   "cell_type": "code",
   "execution_count": 9,
   "metadata": {},
   "outputs": [
    {
     "ename": "",
     "evalue": "",
     "output_type": "error",
     "traceback": [
      "\u001b[1;31mThe Kernel crashed while executing code in the current cell or a previous cell. \n",
      "\u001b[1;31mPlease review the code in the cell(s) to identify a possible cause of the failure. \n",
      "\u001b[1;31mClick <a href='https://aka.ms/vscodeJupyterKernelCrash'>here</a> for more info. \n",
      "\u001b[1;31mView Jupyter <a href='command:jupyter.viewOutput'>log</a> for further details."
     ]
    }
   ],
   "source": [
    "segments, info = model.transcribe(y, beam_size=1, language='en', word_timestamps = True, without_timestamps= True)\n",
    "\n",
    "for segment in segments:\n",
    "    print(segment)"
   ]
  },
  {
   "cell_type": "code",
   "execution_count": null,
   "metadata": {},
   "outputs": [],
   "source": []
  }
 ],
 "metadata": {
  "kernelspec": {
   "display_name": "depTest",
   "language": "python",
   "name": "python3"
  },
  "language_info": {
   "codemirror_mode": {
    "name": "ipython",
    "version": 3
   },
   "file_extension": ".py",
   "mimetype": "text/x-python",
   "name": "python",
   "nbconvert_exporter": "python",
   "pygments_lexer": "ipython3",
   "version": "3.10.0"
  }
 },
 "nbformat": 4,
 "nbformat_minor": 2
}
